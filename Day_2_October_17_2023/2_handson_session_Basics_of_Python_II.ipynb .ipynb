{
  "nbformat": 4,
  "nbformat_minor": 0,
  "metadata": {
    "colab": {
      "provenance": []
    },
    "kernelspec": {
      "name": "python3",
      "display_name": "Python 3"
    },
    "language_info": {
      "name": "python"
    }
  },
  "cells": [
    {
      "cell_type": "markdown",
      "metadata": {
        "id": "7AX6RCjBrSz6"
      },
      "source": [
        "# 1.File handling"
      ]
    },
    {
      "cell_type": "markdown",
      "metadata": {
        "id": "0vs3e5u57h_l"
      },
      "source": [
        "## Create/write a file"
      ]
    },
    {
      "cell_type": "code",
      "metadata": {
        "id": "qvAHh2gZ6-J6"
      },
      "source": [
        "import numpy as np"
      ],
      "execution_count": null,
      "outputs": []
    },
    {
      "cell_type": "code",
      "metadata": {
        "id": "qcZIMhkfk73N"
      },
      "source": [
        "# Add footer to Text File\n",
        "\n",
        "x=np.linspace(0,1,10)\n",
        "y=np.sin(x)\n",
        "np.savetxt(\"test_oct_17.txt\", np.transpose([x,y]), fmt=\"%f\",delimiter=\" \", newline=\"\\n\",header='hhh', footer='ff')\n"
      ],
      "execution_count": null,
      "outputs": []
    },
    {
      "cell_type": "markdown",
      "metadata": {
        "id": "lUciek_v8ueI"
      },
      "source": [
        "##  Read a File"
      ]
    },
    {
      "cell_type": "code",
      "metadata": {
        "id": "uep8ggcr9J9Z"
      },
      "source": [
        "# read text file using loadtxt\n",
        "f= np.loadtxt(\"test_oct_17.txt\")"
      ],
      "execution_count": null,
      "outputs": []
    },
    {
      "cell_type": "code",
      "metadata": {
        "colab": {
          "base_uri": "https://localhost:8080/"
        },
        "id": "icEGLrJKqokg",
        "outputId": "b6070648-a56f-4dfd-a3a1-3f7bbb72ad1d"
      },
      "source": [
        "f"
      ],
      "execution_count": null,
      "outputs": [
        {
          "output_type": "execute_result",
          "data": {
            "text/plain": [
              "array([[0.      , 0.      ],\n",
              "       [0.111111, 0.110883],\n",
              "       [0.222222, 0.220398],\n",
              "       [0.333333, 0.327195],\n",
              "       [0.444444, 0.429956],\n",
              "       [0.555556, 0.527415],\n",
              "       [0.666667, 0.61837 ],\n",
              "       [0.777778, 0.701698],\n",
              "       [0.888889, 0.776372],\n",
              "       [1.      , 0.841471]])"
            ]
          },
          "metadata": {},
          "execution_count": 4
        }
      ]
    },
    {
      "cell_type": "code",
      "metadata": {
        "colab": {
          "base_uri": "https://localhost:8080/"
        },
        "id": "-K9qlqLerNFX",
        "outputId": "8a79a5c4-6894-4404-87b2-c70dd92863dc"
      },
      "source": [
        "f[0]"
      ],
      "execution_count": null,
      "outputs": [
        {
          "output_type": "execute_result",
          "data": {
            "text/plain": [
              "array([0., 0.])"
            ]
          },
          "metadata": {},
          "execution_count": 5
        }
      ]
    },
    {
      "cell_type": "code",
      "metadata": {
        "id": "Q5QXORTyrIA5"
      },
      "source": [
        "# read text file using loadtxt\n",
        "f= np.loadtxt(\"test_oct_17.txt\",unpack=\"True\")"
      ],
      "execution_count": null,
      "outputs": []
    },
    {
      "cell_type": "code",
      "metadata": {
        "colab": {
          "base_uri": "https://localhost:8080/"
        },
        "id": "5PYpY86LrQZQ",
        "outputId": "f01635e7-999d-4c21-d174-9acb115045ba"
      },
      "source": [
        "f"
      ],
      "execution_count": null,
      "outputs": [
        {
          "output_type": "execute_result",
          "data": {
            "text/plain": [
              "array([[0.      , 0.111111, 0.222222, 0.333333, 0.444444, 0.555556,\n",
              "        0.666667, 0.777778, 0.888889, 1.      ],\n",
              "       [0.      , 0.110883, 0.220398, 0.327195, 0.429956, 0.527415,\n",
              "        0.61837 , 0.701698, 0.776372, 0.841471]])"
            ]
          },
          "metadata": {},
          "execution_count": 7
        }
      ]
    },
    {
      "cell_type": "code",
      "metadata": {
        "colab": {
          "base_uri": "https://localhost:8080/"
        },
        "id": "a3g5o-_srSbY",
        "outputId": "0734e41e-a46b-4676-fed0-585a93834d6a"
      },
      "source": [
        "f[0]"
      ],
      "execution_count": null,
      "outputs": [
        {
          "output_type": "execute_result",
          "data": {
            "text/plain": [
              "array([0.      , 0.111111, 0.222222, 0.333333, 0.444444, 0.555556,\n",
              "       0.666667, 0.777778, 0.888889, 1.      ])"
            ]
          },
          "metadata": {},
          "execution_count": 8
        }
      ]
    },
    {
      "cell_type": "code",
      "source": [
        "f= np.loadtxt(\"https://raw.githubusercontent.com/darshanbeniwal/Astrophy_Py_STACUP_BDU_CUTN_IUCAA_2023/main/Text_files_Datasets/Hubble_30.txt\",unpack=\"True\")"
      ],
      "metadata": {
        "id": "nAd1N8VZhNko"
      },
      "execution_count": null,
      "outputs": []
    },
    {
      "cell_type": "code",
      "source": [
        "f"
      ],
      "metadata": {
        "colab": {
          "base_uri": "https://localhost:8080/"
        },
        "id": "2ZJtAcQCjACB",
        "outputId": "39287278-5a83-4c43-9874-4e2b5e6c4042"
      },
      "execution_count": null,
      "outputs": [
        {
          "output_type": "execute_result",
          "data": {
            "text/plain": [
              "array([[7.0000e-02, 9.0000e-02, 1.2000e-01, 1.7000e-01, 1.7900e-01,\n",
              "        1.9900e-01, 2.0000e-01, 2.7000e-01, 2.8000e-01, 3.5200e-01,\n",
              "        3.8020e-01, 4.0000e-01, 4.0040e-01, 4.2470e-01, 4.4497e-01,\n",
              "        4.7830e-01, 4.8000e-01, 5.9300e-01, 6.8000e-01, 7.8100e-01,\n",
              "        8.7500e-01, 8.8000e-01, 9.0000e-01, 1.0370e+00, 1.3000e+00,\n",
              "        1.3630e+00, 1.4300e+00, 1.5300e+00, 1.7500e+00, 1.9650e+00],\n",
              "       [6.9000e+01, 6.9000e+01, 6.8600e+01, 8.3000e+01, 7.5000e+01,\n",
              "        7.5000e+01, 7.2900e+01, 7.7000e+01, 8.8800e+01, 8.3000e+01,\n",
              "        8.3000e+01, 9.5000e+01, 7.7000e+01, 8.7100e+01, 9.2800e+01,\n",
              "        8.0900e+01, 9.7000e+01, 1.0400e+02, 9.2000e+01, 1.0500e+02,\n",
              "        1.2500e+02, 9.0000e+01, 1.1700e+02, 1.5400e+02, 1.6800e+02,\n",
              "        1.6000e+02, 1.7700e+02, 1.4000e+02, 2.0200e+02, 1.8650e+02],\n",
              "       [1.9600e+01, 1.2000e+01, 2.6200e+01, 8.0000e+00, 4.0000e+00,\n",
              "        5.0000e+00, 2.9600e+01, 1.4000e+01, 3.6600e+01, 1.4000e+01,\n",
              "        1.3500e+01, 1.7000e+01, 1.0200e+01, 1.1200e+01, 1.2900e+01,\n",
              "        9.0000e+00, 6.2000e+01, 1.3000e+01, 8.0000e+00, 1.2000e+01,\n",
              "        1.7000e+01, 4.0000e+01, 2.3000e+01, 2.0000e+01, 1.7000e+01,\n",
              "        3.3600e+01, 1.8000e+01, 1.4000e+01, 4.0000e+01, 5.0400e+01]])"
            ]
          },
          "metadata": {},
          "execution_count": 10
        }
      ]
    },
    {
      "cell_type": "markdown",
      "metadata": {
        "id": "znk6KjrN91AY"
      },
      "source": [
        "## Delete a File"
      ]
    },
    {
      "cell_type": "code",
      "metadata": {
        "id": "MyyR-B6O96_I"
      },
      "source": [
        "#Now to delete a file or folder you have to interact with the operating system\n",
        "\n",
        "#The OS module in Python provides functions for interacting with the operating system\n",
        "\n",
        "# The OS module in Python provides functions for creating and removing a directory\n",
        "#(folder), fetching its contents, changing and identifying the current directory, etc."
      ],
      "execution_count": null,
      "outputs": []
    },
    {
      "cell_type": "code",
      "metadata": {
        "id": "xPZF372x967-",
        "colab": {
          "base_uri": "https://localhost:8080/",
          "height": 194
        },
        "outputId": "cceb72bb-c2c8-4413-f4aa-d1f7ae4c4e1f"
      },
      "source": [
        "import os\n",
        "os.remove(\"my_file.txt\")"
      ],
      "execution_count": null,
      "outputs": [
        {
          "output_type": "error",
          "ename": "FileNotFoundError",
          "evalue": "ignored",
          "traceback": [
            "\u001b[0;31m---------------------------------------------------------------------------\u001b[0m",
            "\u001b[0;31mFileNotFoundError\u001b[0m                         Traceback (most recent call last)",
            "\u001b[0;32m<ipython-input-12-58baa15e2193>\u001b[0m in \u001b[0;36m<cell line: 2>\u001b[0;34m()\u001b[0m\n\u001b[1;32m      1\u001b[0m \u001b[0;32mimport\u001b[0m \u001b[0mos\u001b[0m\u001b[0;34m\u001b[0m\u001b[0;34m\u001b[0m\u001b[0m\n\u001b[0;32m----> 2\u001b[0;31m \u001b[0mos\u001b[0m\u001b[0;34m.\u001b[0m\u001b[0mremove\u001b[0m\u001b[0;34m(\u001b[0m\u001b[0;34m\"my_file.txt\"\u001b[0m\u001b[0;34m)\u001b[0m\u001b[0;34m\u001b[0m\u001b[0;34m\u001b[0m\u001b[0m\n\u001b[0m",
            "\u001b[0;31mFileNotFoundError\u001b[0m: [Errno 2] No such file or directory: 'my_file.txt'"
          ]
        }
      ]
    },
    {
      "cell_type": "markdown",
      "source": [
        "# 2.Plot data using Matplotlib"
      ],
      "metadata": {
        "id": "wTDLQhUYXzxx"
      }
    },
    {
      "cell_type": "code",
      "source": [
        "import matplotlib.pyplot as plt #Now the Pyplot package can be referred to as plt.\n",
        "import numpy as np"
      ],
      "metadata": {
        "id": "lrq8JSDwoIfA"
      },
      "execution_count": null,
      "outputs": []
    },
    {
      "cell_type": "markdown",
      "source": [
        "##Errorbar Plots"
      ],
      "metadata": {
        "id": "9zQJ4R510WXR"
      }
    },
    {
      "cell_type": "code",
      "source": [
        "x=np.arange(0,10,1)\n",
        "y=np.array((1,3,2,6,5,3,4,5,9,3))\n",
        "y_err=y*0.3\n",
        "plt.errorbar(x,y,y_err,fmt='b.',capsize=3,ecolor='r',elinewidth=1)\n",
        "plt.xlabel('x')\n",
        "plt.ylabel('y')"
      ],
      "metadata": {
        "id": "F0lG-aGzzP_Z",
        "colab": {
          "base_uri": "https://localhost:8080/",
          "height": 466
        },
        "outputId": "ac9eed24-ff1f-4189-fdc8-f9127733b341"
      },
      "execution_count": null,
      "outputs": [
        {
          "output_type": "execute_result",
          "data": {
            "text/plain": [
              "Text(0, 0.5, 'y')"
            ]
          },
          "metadata": {},
          "execution_count": 14
        },
        {
          "output_type": "display_data",
          "data": {
            "text/plain": [
              "<Figure size 640x480 with 1 Axes>"
            ],
            "image/png": "[encoded data removed]"
          },
          "metadata": {}
        }
      ]
    },
    {
      "cell_type": "markdown",
      "source": [
        "##Save Plot"
      ],
      "metadata": {
        "id": "xtqLwZQTxUOy"
      }
    },
    {
      "cell_type": "code",
      "source": [
        "x=np.arange(0,10,1)\n",
        "y=np.array((1,3,2,6,5,3,4,5,9,3))\n",
        "y_err=y*0.3\n",
        "plt.errorbar(x,y,y_err,fmt='b.',capsize=3,ecolor='r',elinewidth=1)\n",
        "plt.xlabel('x')\n",
        "plt.ylabel('y')"
      ],
      "metadata": {
        "colab": {
          "base_uri": "https://localhost:8080/",
          "height": 466
        },
        "id": "r6qwwEiEfv-i",
        "outputId": "93903dae-b66e-4e4d-db9e-7ece80d1cfb4"
      },
      "execution_count": null,
      "outputs": [
        {
          "output_type": "execute_result",
          "data": {
            "text/plain": [
              "Text(0, 0.5, 'y')"
            ]
          },
          "metadata": {},
          "execution_count": 15
        },
        {
          "output_type": "display_data",
          "data": {
            "text/plain": [
              "<Figure size 640x480 with 1 Axes>"
            ],
            "image/png": "[encoded data removed]"
          },
          "metadata": {}
        }
      ]
    },
    {
      "cell_type": "markdown",
      "source": [
        "##Confidence levels regions"
      ],
      "metadata": {
        "id": "vTzJBq0L0gou"
      }
    },
    {
      "cell_type": "code",
      "source": [
        "x=np.arange(0,10,1)\n",
        "y=np.array((1,2,3,2.8,2.4,2,2.3,2.7,2.3,2))\n",
        "y_err=y*0.1\n",
        "plt.errorbar(x,y,y_err,fmt='b.',capsize=3,ecolor='r',elinewidth=1)\n",
        "plt.fill_between(x, y+1.*y_err, y-1.*y_err, facecolor='#F08080', alpha=0.99)\n",
        "plt.fill_between(x, y+2.*y_err, y-2.*y_err, facecolor='#F08080', alpha=0.59)\n",
        "plt.fill_between(x, y+3.*y_err, y-3.*y_err, facecolor='#F08080', alpha=0.39)\n"
      ],
      "metadata": {
        "id": "MP2JfL8D0jlm"
      },
      "execution_count": null,
      "outputs": []
    },
    {
      "cell_type": "markdown",
      "source": [
        "# 3.Dataframe using Pandas"
      ],
      "metadata": {
        "id": "avRmmpigfECg"
      }
    },
    {
      "cell_type": "markdown",
      "source": [
        "## Import Packages"
      ],
      "metadata": {
        "id": "Qv29RWEOf-0o"
      }
    },
    {
      "cell_type": "code",
      "source": [
        "import numpy as np\n",
        "import pandas as pd\n",
        "import matplotlib.pyplot as plt"
      ],
      "metadata": {
        "id": "LMLmh-_cgA18"
      },
      "execution_count": null,
      "outputs": []
    },
    {
      "cell_type": "code",
      "source": [
        "df_covid=pd.read_csv(\"https://raw.githubusercontent.com/darshanbeniwal/Statistical_Cosmology_using_Python_ICARD_2021/main/Week_9_Feb_01_2022/Covid_19_Jan_16_2022.csv\")"
      ],
      "metadata": {
        "id": "-KZonCgDgGvv"
      },
      "execution_count": null,
      "outputs": []
    },
    {
      "cell_type": "code",
      "source": [
        "df_covid"
      ],
      "metadata": {
        "id": "p9955jIJSlHV"
      },
      "execution_count": null,
      "outputs": []
    },
    {
      "cell_type": "code",
      "source": [
        "df_covid.dtypes"
      ],
      "metadata": {
        "id": "DWgwQzq-Styp"
      },
      "execution_count": null,
      "outputs": []
    },
    {
      "cell_type": "markdown",
      "source": [
        "## Print the selected Column"
      ],
      "metadata": {
        "id": "Wet5qTepxkrk"
      }
    },
    {
      "cell_type": "code",
      "source": [
        "df_covid.head(5)"
      ],
      "metadata": {
        "id": "jHuaBGTGkNAN"
      },
      "execution_count": null,
      "outputs": []
    },
    {
      "cell_type": "code",
      "source": [
        "df_covid.tail(5)"
      ],
      "metadata": {
        "id": "ulrTr0HtkZqi"
      },
      "execution_count": null,
      "outputs": []
    },
    {
      "cell_type": "code",
      "source": [
        "df=df_covid['Total_Cases']"
      ],
      "metadata": {
        "id": "XkUsLqWvy6Xp"
      },
      "execution_count": null,
      "outputs": []
    },
    {
      "cell_type": "code",
      "source": [
        "df"
      ],
      "metadata": {
        "id": "A8E4KdJFTPu8"
      },
      "execution_count": null,
      "outputs": []
    },
    {
      "cell_type": "code",
      "source": [
        "df_covid[['Country','Total_Cases']]"
      ],
      "metadata": {
        "id": "JSvkM9wRTSc2"
      },
      "execution_count": null,
      "outputs": []
    },
    {
      "cell_type": "code",
      "source": [
        "df_covid[['Country','Total_Cases']].head(5)"
      ],
      "metadata": {
        "id": "QkqXI2riTSZa"
      },
      "execution_count": null,
      "outputs": []
    },
    {
      "cell_type": "code",
      "source": [
        "df_covid.loc[df_covid['Total_Cases']<1000]"
      ],
      "metadata": {
        "id": "pKQTOxtCTSVV"
      },
      "execution_count": null,
      "outputs": []
    },
    {
      "cell_type": "code",
      "source": [
        "len(df_covid.loc[df_covid['Total_Cases']<1000])"
      ],
      "metadata": {
        "id": "-k2lEojTT4fC"
      },
      "execution_count": null,
      "outputs": []
    },
    {
      "cell_type": "code",
      "source": [
        "df_covid.corr()"
      ],
      "metadata": {
        "id": "0QL_QCVAT4aS"
      },
      "execution_count": null,
      "outputs": []
    },
    {
      "cell_type": "code",
      "source": [],
      "metadata": {
        "id": "Tkf9Tfa1hJZe"
      },
      "execution_count": null,
      "outputs": []
    },
    {
      "cell_type": "markdown",
      "source": [
        "# 4.Random Number Operations"
      ],
      "metadata": {
        "id": "4QpzJINEfsP7"
      }
    },
    {
      "cell_type": "code",
      "source": [
        "import random"
      ],
      "metadata": {
        "id": "-EKzy78pixq_"
      },
      "execution_count": null,
      "outputs": []
    },
    {
      "cell_type": "markdown",
      "source": [
        "## Random Items from list, tuple \\& string"
      ],
      "metadata": {
        "id": "zo-I4JvIfzia"
      }
    },
    {
      "cell_type": "markdown",
      "source": [
        "## Generate Random Numbers"
      ],
      "metadata": {
        "id": "nMwo06xIwyQ3"
      }
    },
    {
      "cell_type": "code",
      "source": [
        "np.random.randint(0,10,1)\n"
      ],
      "metadata": {
        "id": "2HTKb2RqlGU8"
      },
      "execution_count": null,
      "outputs": []
    },
    {
      "cell_type": "code",
      "source": [
        "n_rndm=np.random.randint(0,10,15)\n",
        "n_rndm"
      ],
      "metadata": {
        "id": "PyZ2pKvxxVHR"
      },
      "execution_count": null,
      "outputs": []
    },
    {
      "cell_type": "code",
      "source": [
        "plt.hist(n_rndm,bins=15)\n",
        "plt.show()"
      ],
      "metadata": {
        "id": "QPCUtpZ5lEFx"
      },
      "execution_count": null,
      "outputs": []
    },
    {
      "cell_type": "markdown",
      "source": [
        "## Uniform Random Number"
      ],
      "metadata": {
        "id": "Xy3M809DkF1p"
      }
    },
    {
      "cell_type": "code",
      "source": [
        "import numpy as np\n",
        "\n",
        "random_numbers = np.random.uniform(-1, 1, 10)\n",
        "\n",
        "random_numbers"
      ],
      "metadata": {
        "id": "Fmj3yyKVi1FD"
      },
      "execution_count": null,
      "outputs": []
    },
    {
      "cell_type": "code",
      "source": [
        "plt.hist(random_numbers, bins=20,  color='blue', edgecolor='black')\n",
        "# plt.hist(random_numbers, bins=20, density=True, color='blue', edgecolor='black')\n"
      ],
      "metadata": {
        "id": "f_SvVwnkkcZF"
      },
      "execution_count": null,
      "outputs": []
    },
    {
      "cell_type": "markdown",
      "source": [
        "##Gaussian Random Number"
      ],
      "metadata": {
        "id": "IGYte2q-luuC"
      }
    },
    {
      "cell_type": "code",
      "source": [
        "n_Gauss = np.random.normal(0, 1, 100)\n",
        "plt.hist(n_Gauss, bins=20, density=True, color='blue', edgecolor='black')\n"
      ],
      "metadata": {
        "id": "RPCvuADzkfXn"
      },
      "execution_count": null,
      "outputs": []
    },
    {
      "cell_type": "code",
      "source": [
        "mean=0\n",
        "std_dev=1\n",
        "n_Gauss = np.random.normal(mean, std_dev, 100)\n",
        "\n",
        "x=np.arange(-5,5,0.1)\n",
        "\n",
        "pdf = (1 / (std_dev * np.sqrt(2 * np.pi))) * np.exp(-0.5 * ((x - mean) / std_dev) ** 2)\n",
        "\n",
        "plt.plot(x, pdf, color='red', label='Theoretical Gaussian')\n",
        "plt.hist(n_Gauss, bins=20,  density=True, color='blue', edgecolor='black',label='Gaussian-Random Data')\n",
        "\n",
        "plt.xlabel('Value')\n",
        "plt.ylabel('Probability Density')\n",
        "plt.legend()\n"
      ],
      "metadata": {
        "id": "BARghAh6l-Ke"
      },
      "execution_count": null,
      "outputs": []
    },
    {
      "cell_type": "code",
      "source": [],
      "metadata": {
        "id": "rxliaDQ1oa2i"
      },
      "execution_count": null,
      "outputs": []
    }
  ]
}